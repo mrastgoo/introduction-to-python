{
 "cells": [
  {
   "cell_type": "markdown",
   "metadata": {},
   "source": [
    "# Standard libraries"
   ]
  },
  {
   "cell_type": "markdown",
   "metadata": {},
   "source": [
    "## `os` module: operating system functionality\n",
    "## `Pathlib.path` can be used instead of `os`\n"
   ]
  },
  {
   "cell_type": "code",
   "execution_count": 1,
   "metadata": {},
   "outputs": [],
   "source": [
    "import os\n",
    "from pathlib import Path"
   ]
  },
  {
   "cell_type": "markdown",
   "metadata": {},
   "source": [
    "`Path.cwd()` is equivalent to `os.getcwd()`"
   ]
  },
  {
   "cell_type": "code",
   "execution_count": 2,
   "metadata": {
    "scrolled": true
   },
   "outputs": [
    {
     "data": {
      "text/plain": [
       "PosixPath('/home/mrastgoo/Documents/courses/introduction-to-python')"
      ]
     },
     "execution_count": 2,
     "metadata": {},
     "output_type": "execute_result"
    }
   ],
   "source": [
    "Path.cwd()"
   ]
  },
  {
   "cell_type": "code",
   "execution_count": 3,
   "metadata": {
    "scrolled": true
   },
   "outputs": [
    {
     "data": {
      "text/plain": [
       "['05_input_output.ipynb',\n",
       " '__solved__05_input_output.ipynb',\n",
       " 'basic_operations.py',\n",
       " 'tem2',\n",
       " 'operations.py',\n",
       " '__solved__04_reusing_code.ipynb',\n",
       " 'requirements.txt',\n",
       " '00_jupyter_introduction.ipynb',\n",
       " '__solved__02_control_flow.ipynb',\n",
       " 'newfolder',\n",
       " '03_functions.ipynb',\n",
       " '01_basic_types.ipynb',\n",
       " '06_standard_library.ipynb',\n",
       " '__solved__01_basic_types.ipynb',\n",
       " '02_control_flow.ipynb',\n",
       " 'README.md',\n",
       " '04_reusing_code.ipynb',\n",
       " '.ipynb_checkpoints',\n",
       " 'images',\n",
       " '__solved__04_operation.py',\n",
       " '__solved__04_welcome_message.py',\n",
       " '__solved__03_functions.ipynb',\n",
       " 'welcome_message.py',\n",
       " '__solved__04_basic_operations.py',\n",
       " 'data.txt',\n",
       " '__solved__06_standard_library.ipynb',\n",
       " '07_object_oriented_programming.ipynb']"
      ]
     },
     "execution_count": 3,
     "metadata": {},
     "output_type": "execute_result"
    }
   ],
   "source": [
    "# listing all the files in a directory\n",
    "os.listdir()"
   ]
  },
  {
   "cell_type": "code",
   "execution_count": 4,
   "metadata": {},
   "outputs": [
    {
     "data": {
      "text/plain": [
       "[PosixPath('/home/mrastgoo/Documents/courses/introduction-to-python/05_input_output.ipynb'),\n",
       " PosixPath('/home/mrastgoo/Documents/courses/introduction-to-python/__solved__05_input_output.ipynb'),\n",
       " PosixPath('/home/mrastgoo/Documents/courses/introduction-to-python/basic_operations.py'),\n",
       " PosixPath('/home/mrastgoo/Documents/courses/introduction-to-python/operations.py'),\n",
       " PosixPath('/home/mrastgoo/Documents/courses/introduction-to-python/__solved__04_reusing_code.ipynb'),\n",
       " PosixPath('/home/mrastgoo/Documents/courses/introduction-to-python/requirements.txt'),\n",
       " PosixPath('/home/mrastgoo/Documents/courses/introduction-to-python/00_jupyter_introduction.ipynb'),\n",
       " PosixPath('/home/mrastgoo/Documents/courses/introduction-to-python/__solved__02_control_flow.ipynb'),\n",
       " PosixPath('/home/mrastgoo/Documents/courses/introduction-to-python/03_functions.ipynb'),\n",
       " PosixPath('/home/mrastgoo/Documents/courses/introduction-to-python/01_basic_types.ipynb'),\n",
       " PosixPath('/home/mrastgoo/Documents/courses/introduction-to-python/06_standard_library.ipynb'),\n",
       " PosixPath('/home/mrastgoo/Documents/courses/introduction-to-python/__solved__01_basic_types.ipynb'),\n",
       " PosixPath('/home/mrastgoo/Documents/courses/introduction-to-python/02_control_flow.ipynb'),\n",
       " PosixPath('/home/mrastgoo/Documents/courses/introduction-to-python/README.md'),\n",
       " PosixPath('/home/mrastgoo/Documents/courses/introduction-to-python/04_reusing_code.ipynb'),\n",
       " PosixPath('/home/mrastgoo/Documents/courses/introduction-to-python/.ipynb_checkpoints'),\n",
       " PosixPath('/home/mrastgoo/Documents/courses/introduction-to-python/__solved__04_operation.py'),\n",
       " PosixPath('/home/mrastgoo/Documents/courses/introduction-to-python/__solved__04_welcome_message.py'),\n",
       " PosixPath('/home/mrastgoo/Documents/courses/introduction-to-python/__solved__03_functions.ipynb'),\n",
       " PosixPath('/home/mrastgoo/Documents/courses/introduction-to-python/welcome_message.py'),\n",
       " PosixPath('/home/mrastgoo/Documents/courses/introduction-to-python/__solved__04_basic_operations.py'),\n",
       " PosixPath('/home/mrastgoo/Documents/courses/introduction-to-python/data.txt'),\n",
       " PosixPath('/home/mrastgoo/Documents/courses/introduction-to-python/__solved__06_standard_library.ipynb'),\n",
       " PosixPath('/home/mrastgoo/Documents/courses/introduction-to-python/07_object_oriented_programming.ipynb')]"
      ]
     },
     "execution_count": 4,
     "metadata": {},
     "output_type": "execute_result"
    }
   ],
   "source": [
    "list(Path.cwd().glob(\"*.*\"))"
   ]
  },
  {
   "cell_type": "markdown",
   "metadata": {},
   "source": [
    "<div class=\"alert alert-success\">\n",
    "\n",
    "<b>EXERCISE</b>:\n",
    "\n",
    "Using the documentation of `pathlib.Path`, do the following instructions:\n",
    "    \n",
    "<ul>\n",
    "  <li>Make a directory;</li>\n",
    "  <li>Rename this directory;</li>\n",
    "  <li>Create file and write inside it;</li>\n",
    "  <li>Remove the file.</li>\n",
    "</ul>\n",
    "\n",
    "</div>"
   ]
  },
  {
   "cell_type": "code",
   "execution_count": 5,
   "metadata": {},
   "outputs": [],
   "source": [
    "mypath = Path.cwd()\n",
    "(mypath / \"myfolder\").mkdir(exist_ok=True)"
   ]
  },
  {
   "cell_type": "code",
   "execution_count": 7,
   "metadata": {},
   "outputs": [],
   "source": [
    "(mypath / \"myfolder\").rename(\"newfolder\")"
   ]
  },
  {
   "cell_type": "code",
   "execution_count": 8,
   "metadata": {},
   "outputs": [],
   "source": [
    "(mypath / \"newfolder\" / \"text.txt\").touch()"
   ]
  },
  {
   "cell_type": "code",
   "execution_count": 9,
   "metadata": {},
   "outputs": [],
   "source": [
    "with open(mypath / \"newfolder\" / \"text.txt\", 'w') as f:\n",
    "    f.writelines('This is a new file, new line \\n')"
   ]
  },
  {
   "cell_type": "code",
   "execution_count": 10,
   "metadata": {},
   "outputs": [],
   "source": [
    "(mypath / \"newfolder\" / \"text.txt\").unlink()"
   ]
  },
  {
   "cell_type": "markdown",
   "metadata": {},
   "source": [
    "## os.path: path manipulations"
   ]
  },
  {
   "cell_type": "markdown",
   "metadata": {},
   "source": [
    "<div class=\"alert alert-success\">\n",
    "\n",
    "<b>EXERCISE</b>:\n",
    "\n",
    "Using the documentation of `pathlib.Path`, do the following instructions:\n",
    "    \n",
    "<ul>\n",
    "  <li>Using open create file and write inside it;</li>\n",
    "  <li>Get the absolute path of the file that you created;</li>\n",
    "  <li>Split the filename and the path into two strings;</li>\n",
    "  <li>Split the extension from the filename;</li>\n",
    "  <li>Check that the path (to the file for instance) is a directory or a path.</li>\n",
    "</ul>\n",
    "\n",
    "</div>"
   ]
  },
  {
   "cell_type": "code",
   "execution_count": 11,
   "metadata": {},
   "outputs": [],
   "source": [
    "with open('newfolder/file.txt', 'w') as f:\n",
    "    f.writelines('This is a new file, new line \\n')"
   ]
  },
  {
   "cell_type": "code",
   "execution_count": 12,
   "metadata": {},
   "outputs": [],
   "source": [
    "file_path = mypath / \"newfolder\" / \"file.txt\""
   ]
  },
  {
   "cell_type": "code",
   "execution_count": 13,
   "metadata": {},
   "outputs": [
    {
     "data": {
      "text/plain": [
       "PosixPath('/home/mrastgoo/Documents/courses/introduction-to-python/newfolder/file.txt')"
      ]
     },
     "execution_count": 13,
     "metadata": {},
     "output_type": "execute_result"
    }
   ],
   "source": [
    "file_path.absolute()"
   ]
  },
  {
   "cell_type": "code",
   "execution_count": 14,
   "metadata": {},
   "outputs": [
    {
     "data": {
      "text/plain": [
       "'file.txt'"
      ]
     },
     "execution_count": 14,
     "metadata": {},
     "output_type": "execute_result"
    }
   ],
   "source": [
    "file_path.name"
   ]
  },
  {
   "cell_type": "code",
   "execution_count": 15,
   "metadata": {},
   "outputs": [
    {
     "data": {
      "text/plain": [
       "PosixPath('/home/mrastgoo/Documents/courses/introduction-to-python/newfolder')"
      ]
     },
     "execution_count": 15,
     "metadata": {},
     "output_type": "execute_result"
    }
   ],
   "source": [
    "file_path.parent"
   ]
  },
  {
   "cell_type": "code",
   "execution_count": 16,
   "metadata": {},
   "outputs": [
    {
     "data": {
      "text/plain": [
       "'.txt'"
      ]
     },
     "execution_count": 16,
     "metadata": {},
     "output_type": "execute_result"
    }
   ],
   "source": [
    "file_path.suffix"
   ]
  },
  {
   "cell_type": "code",
   "execution_count": 17,
   "metadata": {},
   "outputs": [
    {
     "data": {
      "text/plain": [
       "(False, True)"
      ]
     },
     "execution_count": 17,
     "metadata": {},
     "output_type": "execute_result"
    }
   ],
   "source": [
    "file_path.is_dir(), file_path.is_file()"
   ]
  },
  {
   "cell_type": "markdown",
   "metadata": {},
   "source": [
    "## Walking into directory"
   ]
  },
  {
   "cell_type": "code",
   "execution_count": 18,
   "metadata": {},
   "outputs": [
    {
     "name": "stdout",
     "output_type": "stream",
     "text": [
      "/home/mrastgoo/Documents/courses/introduction-to-python/05_input_output.ipynb\n",
      "/home/mrastgoo/Documents/courses/introduction-to-python/__solved__05_input_output.ipynb\n",
      "/home/mrastgoo/Documents/courses/introduction-to-python/basic_operations.py\n",
      "/home/mrastgoo/Documents/courses/introduction-to-python/operations.py\n",
      "/home/mrastgoo/Documents/courses/introduction-to-python/__solved__04_reusing_code.ipynb\n",
      "/home/mrastgoo/Documents/courses/introduction-to-python/requirements.txt\n",
      "/home/mrastgoo/Documents/courses/introduction-to-python/00_jupyter_introduction.ipynb\n",
      "/home/mrastgoo/Documents/courses/introduction-to-python/__solved__02_control_flow.ipynb\n",
      "/home/mrastgoo/Documents/courses/introduction-to-python/03_functions.ipynb\n",
      "/home/mrastgoo/Documents/courses/introduction-to-python/01_basic_types.ipynb\n",
      "/home/mrastgoo/Documents/courses/introduction-to-python/06_standard_library.ipynb\n",
      "/home/mrastgoo/Documents/courses/introduction-to-python/__solved__01_basic_types.ipynb\n",
      "/home/mrastgoo/Documents/courses/introduction-to-python/02_control_flow.ipynb\n",
      "/home/mrastgoo/Documents/courses/introduction-to-python/README.md\n",
      "/home/mrastgoo/Documents/courses/introduction-to-python/04_reusing_code.ipynb\n",
      "/home/mrastgoo/Documents/courses/introduction-to-python/__solved__04_operation.py\n",
      "/home/mrastgoo/Documents/courses/introduction-to-python/__solved__04_welcome_message.py\n",
      "/home/mrastgoo/Documents/courses/introduction-to-python/__solved__03_functions.ipynb\n",
      "/home/mrastgoo/Documents/courses/introduction-to-python/welcome_message.py\n",
      "/home/mrastgoo/Documents/courses/introduction-to-python/__solved__04_basic_operations.py\n",
      "/home/mrastgoo/Documents/courses/introduction-to-python/data.txt\n",
      "/home/mrastgoo/Documents/courses/introduction-to-python/__solved__06_standard_library.ipynb\n",
      "/home/mrastgoo/Documents/courses/introduction-to-python/07_object_oriented_programming.ipynb\n",
      "/home/mrastgoo/Documents/courses/introduction-to-python/file.txt\n",
      "/home/mrastgoo/Documents/courses/introduction-to-python/file-checkpoint.txt\n",
      "/home/mrastgoo/Documents/courses/introduction-to-python/file.txt\n",
      "/home/mrastgoo/Documents/courses/introduction-to-python/__solved__03_functions-checkpoint.ipynb\n",
      "/home/mrastgoo/Documents/courses/introduction-to-python/06_standard_library-checkpoint.ipynb\n",
      "/home/mrastgoo/Documents/courses/introduction-to-python/__solved__06_standard_library-checkpoint.ipynb\n",
      "/home/mrastgoo/Documents/courses/introduction-to-python/05_input_output-checkpoint.ipynb\n",
      "/home/mrastgoo/Documents/courses/introduction-to-python/03_functions-checkpoint.ipynb\n",
      "/home/mrastgoo/Documents/courses/introduction-to-python/04_reusing_code-checkpoint.ipynb\n",
      "/home/mrastgoo/Documents/courses/introduction-to-python/__solved__05_input_output-checkpoint.ipynb\n",
      "/home/mrastgoo/Documents/courses/introduction-to-python/02_control_flow-checkpoint.ipynb\n",
      "/home/mrastgoo/Documents/courses/introduction-to-python/01_basic_types-checkpoint.ipynb\n",
      "/home/mrastgoo/Documents/courses/introduction-to-python/00_jupyter_introduction-checkpoint.ipynb\n",
      "/home/mrastgoo/Documents/courses/introduction-to-python/check_env-1.png\n",
      "/home/mrastgoo/Documents/courses/introduction-to-python/check_env-2.png\n",
      "/home/mrastgoo/Documents/courses/introduction-to-python/ipython_help-1.png\n",
      "/home/mrastgoo/Documents/courses/introduction-to-python/ipython_help-2.png\n",
      "/home/mrastgoo/Documents/courses/introduction-to-python/download-repo.png\n",
      "/home/mrastgoo/Documents/courses/introduction-to-python/ipython_run_cell.png\n"
     ]
    }
   ],
   "source": [
    "for dirpath, dirnames, filenames in os.walk(os.curdir):\n",
    "    for fp in filenames:\n",
    "        print(os.path.abspath(fp))"
   ]
  },
  {
   "cell_type": "markdown",
   "metadata": {},
   "source": [
    "## glob: Pattern matching on files"
   ]
  },
  {
   "cell_type": "markdown",
   "metadata": {},
   "source": [
    "<div class=\"alert alert-success\">\n",
    "\n",
    "<b>EXERCISE</b>:\n",
    "\n",
    "Use `pathlib.Path.glob` to filter all the `*.ipynb` notebook filename.\n",
    "\n",
    "</div>"
   ]
  },
  {
   "cell_type": "code",
   "execution_count": 19,
   "metadata": {},
   "outputs": [
    {
     "data": {
      "text/plain": [
       "[PosixPath('/home/mrastgoo/Documents/courses/introduction-to-python/05_input_output.ipynb'),\n",
       " PosixPath('/home/mrastgoo/Documents/courses/introduction-to-python/__solved__05_input_output.ipynb'),\n",
       " PosixPath('/home/mrastgoo/Documents/courses/introduction-to-python/__solved__04_reusing_code.ipynb'),\n",
       " PosixPath('/home/mrastgoo/Documents/courses/introduction-to-python/00_jupyter_introduction.ipynb'),\n",
       " PosixPath('/home/mrastgoo/Documents/courses/introduction-to-python/__solved__02_control_flow.ipynb'),\n",
       " PosixPath('/home/mrastgoo/Documents/courses/introduction-to-python/03_functions.ipynb'),\n",
       " PosixPath('/home/mrastgoo/Documents/courses/introduction-to-python/01_basic_types.ipynb'),\n",
       " PosixPath('/home/mrastgoo/Documents/courses/introduction-to-python/06_standard_library.ipynb'),\n",
       " PosixPath('/home/mrastgoo/Documents/courses/introduction-to-python/__solved__01_basic_types.ipynb'),\n",
       " PosixPath('/home/mrastgoo/Documents/courses/introduction-to-python/02_control_flow.ipynb'),\n",
       " PosixPath('/home/mrastgoo/Documents/courses/introduction-to-python/04_reusing_code.ipynb'),\n",
       " PosixPath('/home/mrastgoo/Documents/courses/introduction-to-python/__solved__03_functions.ipynb'),\n",
       " PosixPath('/home/mrastgoo/Documents/courses/introduction-to-python/__solved__06_standard_library.ipynb'),\n",
       " PosixPath('/home/mrastgoo/Documents/courses/introduction-to-python/07_object_oriented_programming.ipynb')]"
      ]
     },
     "execution_count": 19,
     "metadata": {},
     "output_type": "execute_result"
    }
   ],
   "source": [
    "list(mypath.glob(\"*.ipynb\"))"
   ]
  },
  {
   "cell_type": "code",
   "execution_count": null,
   "metadata": {},
   "outputs": [],
   "source": []
  }
 ],
 "metadata": {
  "kernelspec": {
   "display_name": "Python 3",
   "language": "python",
   "name": "python3"
  },
  "language_info": {
   "codemirror_mode": {
    "name": "ipython",
    "version": 3
   },
   "file_extension": ".py",
   "mimetype": "text/x-python",
   "name": "python",
   "nbconvert_exporter": "python",
   "pygments_lexer": "ipython3",
   "version": "3.7.0"
  }
 },
 "nbformat": 4,
 "nbformat_minor": 2
}
